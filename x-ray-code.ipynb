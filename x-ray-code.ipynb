{
 "cells": [
  {
   "cell_type": "code",
   "execution_count": null,
   "metadata": {},
   "outputs": [],
   "source": [
    "%matplotlib qt\n",
    "import matplotlib.pyplot as plt\n",
    "import numpy as np\n",
    "import glob\n",
    "import pandas as pd\n",
    "from pathlib import Path\n",
    "import os\n",
    "from itertools import product\n",
    "from scipy.signal import detrend"
   ]
  },
  {
   "cell_type": "code",
   "execution_count": null,
   "metadata": {},
   "outputs": [],
   "source": [
    "# get_ipython().run_line_magic('matplotlib')\n",
    "smallfont=11\n",
    "bigfont=12\n",
    "data = pd.read_excel(Path.cwd()/\"CO2-K-EDGE-cleaned.xlsx\")"
   ]
  },
  {
   "cell_type": "code",
   "execution_count": null,
   "metadata": {},
   "outputs": [],
   "source": [
    "#Cleaning spectrum data to two columns and in txt format\n",
    "# List of input files\n",
    "input_files = [\n",
    "    \"H2O-aug-cc-pVDZ.spectrum\",\n",
    "    \"H2O-aug-cc-pVTZ.spectrum\",\n",
    "    \"H2O-aug-cc-pVQZ.spectrum\",\n",
    "    \"H2O-cc-pVDZ.spectrum\",\n",
    "    \"H2O-cc-pVTZ.spectrum\",\n",
    "    \"H2O-cc-pVQZ.spectrum\",\n",
    "]\n",
    "\n",
    "# Loop through each file and extract data\n",
    "for input_file in input_files:\n",
    "    output_file = f\"extracted_{input_file}\"  # Create output file name\n",
    "    if os.path.exists(input_file):  # Check if file exists\n",
    "        with open(input_file, \"r\") as infile, open(output_file, \"w\") as outfile:\n",
    "            for line in infile:\n",
    "                parts = line.split()\n",
    "                if len(parts) >= 2 and parts[0].isdigit():  # Ensuring we only parse valid numerical rows\n",
    "                    excitation_energy = parts[1]\n",
    "                    osc_strength = parts[2]\n",
    "                    outfile.write(f\"{excitation_energy} {osc_strength}\\n\")\n",
    "        print(f\"Extracted data saved to {output_file}\")\n",
    "    else:\n",
    "        print(f\"File {input_file} not found.\")\n"
   ]
  },
  {
   "cell_type": "markdown",
   "metadata": {},
   "source": [
    "2 cols and 3 rows + exp"
   ]
  },
  {
   "cell_type": "code",
   "execution_count": null,
   "metadata": {},
   "outputs": [],
   "source": [
    "#opening figure (plotting)\n",
    "def gaussian(E, osc, sigma, grid):\n",
    "    \n",
    "    conv = []\n",
    "    \n",
    "    for Ei in x:\n",
    "        tot=0\n",
    "        for Ej, os in zip(E, osc):\n",
    "            tot+=os*np.exp(-((((Ej-Ei)/sigma)**2)))\n",
    "        conv.append(tot)\n",
    "    return conv"
   ]
  },
  {
   "cell_type": "code",
   "execution_count": null,
   "metadata": {},
   "outputs": [],
   "source": [
    "\n",
    "#importng data\n",
    "fnames = [\"aug-cc-pVDZ\", \"aug-cc-pVTZ\", \"aug-cc-pVQZ\",\n",
    "          \"cc-pVDZ\", \"cc-pVTZ\", \"cc-pVQZ\",\n",
    "          \"XAS-EXP-GAS\"]\n",
    "\n",
    "emin, emax = 525, 540\n",
    "data_dict = {}\n",
    "for fname in fnames:\n",
    "    try:\n",
    "        data = np.loadtxt(f\"extracted_H2O-{fname}.spectrum\")\n",
    "    except:\n",
    "        data = np.loadtxt(f\"extracted_H2O-{fname}.spectrum\", delimiter=',')\n",
    "    data = data[data[:, 0] > emin]\n",
    "    data = data[data[:, 0] < emax]\n",
    "    data_dict[fname] = data\n",
    "\n",
    "\n",
    "x = np.linspace(emin, emax, num=1000)\n",
    "sigma=0.2\n",
    "colors = [\"red\", \"blue\", \"green\", \"red\", \"blue\", \"green\", \"green\"]\n",
    "fig, axs = plt.subplots(3, 2, figsize=(13.5, 10.5), layout=\"constrained\")\n",
    "shift = 4.41\n",
    "scale = 1/ 2500 \n",
    "\n",
    "for idx, fname, color in zip(range(len(fnames)), fnames, colors):\n",
    "    data = data_dict[fname]\n",
    "    gE = gaussian(data[:,0], data[:,1], sigma, x)\n",
    "\n",
    "    if idx < 3:\n",
    "        col_idx = 0\n",
    "        axs[idx][col_idx].plot(x, gE, color=color, lw=2)#,   label=r'$\\sigma$ = 0.8 eV')\n",
    "        axs[idx][col_idx].set_title(f'Oxygen K-edge H2O(gas) x-ray ({fname})')\n",
    "        axs[idx][col_idx].bar(data[:,0][:10], data[:,1][:10]*0.5, width=0.05, color='k', label='Sticks') #up to the row you want to plot the sticks\n",
    "\n",
    "\n",
    "    if 2 < idx < 6:\n",
    "        col_idx = 1\n",
    "    \n",
    "        axs[idx-3][col_idx].plot(x, gE, color=color, lw=2)#,   label=r'$\\sigma$ = 0.8 eV')\n",
    "        axs[idx-3][col_idx].set_title(f'Oxygen K-edge H2O(gas) x-ray ({fname})')\n",
    "        axs[idx-3][col_idx].bar(data[:,0][:10], data[:,1][:10]*0.5, width=0.05, color='k', label='Sticks') #up to the row you want to plot the sticks\n",
    "\n",
    "    if idx == 6:\n",
    "        for i, j in product(range(3), range(2)): #for all 6 plots combinations [(0,0), (0, 1), (0, 2), (1, 1),(1, 2), (1, 3)]\n",
    "            \n",
    "            #axs[i][j].plot(x - shift, np.array(gE) * scale, color='k', lw=2, linestyle=\"--\") #,   label=r'$\\sigma$ = 0.8 eV')\n",
    "            axs[i][j].plot(data_dict[\"XAS-EXP-GAS\"][:,0] - shift,\n",
    "                            (detrend(data_dict[\"XAS-EXP-GAS\"][:,1]) + 34) * scale,\n",
    "                            color='k', lw=2, linestyle=\"--\")\n",
    "            axs[i][j].set_xlabel('Energy / eV', fontsize=bigfont)\n",
    "            axs[i][j].set_ylabel('Intensity / arb. u.', fontsize=bigfont)\n",
    "            axs[i][j].set_xlim(524, 540)\n",
    "            axs[i][j].set_ylim(0, 0.05)\n",
    "            axs[i][j].spines[[\"right\", \"top\"]].set_visible(False)\n",
    "    \n",
    "\n"
   ]
  }
 ],
 "metadata": {
  "kernelspec": {
   "display_name": "base",
   "language": "python",
   "name": "python3"
  },
  "language_info": {
   "codemirror_mode": {
    "name": "ipython",
    "version": 3
   },
   "file_extension": ".py",
   "mimetype": "text/x-python",
   "name": "python",
   "nbconvert_exporter": "python",
   "pygments_lexer": "ipython3",
   "version": "3.10.12"
  }
 },
 "nbformat": 4,
 "nbformat_minor": 2
}

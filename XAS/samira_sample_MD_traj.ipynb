{
 "cells": [
  {
   "cell_type": "code",
   "execution_count": null,
   "metadata": {},
   "outputs": [],
   "source": [
    "import  numpy as np\n",
    "from tqdm.notebook import tqdm\n",
    "from pathlib import Path\n",
    "\n",
    "fname = \"H2O-r2SCAN-DZVP-pos-1.xyz\"\n",
    "fyle = open(fname, \"r\")\n",
    "lines = fyle.readlines()\n",
    "fyle.close()\n",
    "\n",
    "n_step = 3500\n",
    "len_traj = 96\n",
    "\n",
    "line_idx_starts, line_idx_ends = [], []\n",
    "for line_idx, line in tqdm(enumerate(lines[:])):\n",
    "    if \"i =\" in line:\n",
    "        line_idx_starts.append(line_idx + 1)\n",
    "        line_idx_ends.append(line_idx + len_traj)\n",
    "\n",
    "line_idx_starts_sub = line_idx_starts[::n_step]\n",
    "line_idx_ends_sub = line_idx_ends[::n_step]\n",
    "\n",
    "\n",
    "# trajs = []\n",
    "for st_idx, end_idx in tqdm(zip(line_idx_starts_sub, line_idx_ends_sub)):\n",
    "    atoms, X, Y, Z = [], [], [], []\n",
    "    for sub_line in lines[st_idx: end_idx + 1]:\n",
    "        atom, x, y, z = sub_line.strip().split(\"      \")\n",
    "        atoms.append(atom)\n",
    "        X.append(float(x))\n",
    "        Y.append(float(y))\n",
    "        Z.append(float(z))\n",
    "        single_traj = np.array([atoms, X, Y, Z], dtype=str).T #U14 accepts both float and string types and then transpose it\n",
    "    np.savetxt(Path.cwd() / \"snapshots\" / f\"traject_{st_idx}.xyz\", single_traj, fmt=\"%s\")\n",
    "#    trajs.append(single_traj)\n",
    "\n",
    "# trajs = np.array(trajs)\n",
    "# np.save(\"sampling_output.npy\", trajs)"
   ]
  },
  {
   "cell_type": "code",
   "execution_count": null,
   "metadata": {},
   "outputs": [],
   "source": [
    "np.array([atoms, X, Y, Z], dtype=str).T"
   ]
  },
  {
   "cell_type": "code",
   "execution_count": null,
   "metadata": {},
   "outputs": [],
   "source": [
    "np.load(\"sampling_output.npy\", allow_pickle=True)"
   ]
  },
  {
   "cell_type": "code",
   "execution_count": null,
   "metadata": {},
   "outputs": [],
   "source": [
    "import numpy as np\n",
    "data = np.load(\"sampling_output.npy\", allow_pickle= True)\n",
    "print(data.shape)"
   ]
  }
 ],
 "metadata": {
  "kernelspec": {
   "display_name": "base",
   "language": "python",
   "name": "python3"
  },
  "language_info": {
   "codemirror_mode": {
    "name": "ipython",
    "version": 3
   },
   "file_extension": ".py",
   "mimetype": "text/x-python",
   "name": "python",
   "nbconvert_exporter": "python",
   "pygments_lexer": "ipython3",
   "version": "3.10.12"
  }
 },
 "nbformat": 4,
 "nbformat_minor": 2
}
